{
 "cells": [
  {
   "cell_type": "code",
   "execution_count": 1,
   "metadata": {},
   "outputs": [],
   "source": [
    "import os\n",
    "import cv2\n",
    "import numpy as np\n",
    "import matplotlib.pyplot as plt\n",
    "\n",
    "from ipywidgets import Button, Output, HBox\n",
    "from IPython.display import display, clear_output\n",
    "from torch.utils.data import Dataset"
   ]
  },
  {
   "cell_type": "code",
   "execution_count": 2,
   "metadata": {},
   "outputs": [
    {
     "data": {
      "text/plain": [
       "['monet_jpg', 'monet_tfrec', 'photo_jpg', 'photo_tfrec']"
      ]
     },
     "execution_count": 2,
     "metadata": {},
     "output_type": "execute_result"
    }
   ],
   "source": [
    "root_path = \"./data\"\n",
    "os.listdir(root_path)"
   ]
  },
  {
   "cell_type": "code",
   "execution_count": 3,
   "metadata": {},
   "outputs": [],
   "source": [
    "class ImageExplorer:\n",
    "    \"\"\" Simple tool for viewing images in notebooks\n",
    "\n",
    "    Implements a n_rows by n_cols plt.figure with up and down buttons to change between rows\n",
    "\n",
    "    \"\"\"\n",
    "\n",
    "    # --------------------------------------------------------------------------------\n",
    "    def __init__(self,\n",
    "                 dataset=None,\n",
    "                 num_samples=None,\n",
    "                 n_rows=3,\n",
    "                 n_cols=3,\n",
    "                 figsize=(12, 12)):\n",
    "        \"\"\" Initialise the Image Explorer\n",
    "\n",
    "        How to:\n",
    "            explorer = ImageExplorer(dataset)\n",
    "            explorer.show()\n",
    "\n",
    "        Tips: Override any functionality for your own case, I left some comments in other functions\n",
    "        that might be useful to provide a case specific behaviour\n",
    "\n",
    "        ---\n",
    "        Parameters\n",
    "            dataset: Dataset class, can be anything (torch.Dataset recommended) as long as it implements len()\n",
    "            num_samples: If dataset is None then num of samples can also be specified via this arg\n",
    "            n_rows: Number of rows\n",
    "            n_cols: Number of columns\n",
    "            figsize: Figure size\n",
    "\n",
    "        \"\"\"\n",
    "        if dataset is None and num_samples is None:\n",
    "            raise ValueError(\"Either Dataset or num_samples must be given, both are None\")\n",
    "\n",
    "        self.dataset = dataset\n",
    "        self.n_rows = n_rows\n",
    "        self.n_cols = n_cols\n",
    "        self.figsize = figsize\n",
    "        self.total_images = n_rows * n_cols\n",
    "        self.num_samples = num_samples if num_samples is not None else len(dataset)\n",
    "        self.current_index = 0\n",
    "\n",
    "        self.output_widget = Output()\n",
    "        self.button_up = Button(description='▲')\n",
    "        self.button_down = Button(description='▼')\n",
    "        self.button_box = HBox([self.button_up, self.button_down], align_items='center')\n",
    "\n",
    "        self._initialize_callbacks()\n",
    "\n",
    "    # --------------------------------------------------------------------------------\n",
    "    def _initialize_callbacks(self):\n",
    "        \"\"\" Initialise callbacks for up and down buttons\n",
    "        \"\"\"\n",
    "\n",
    "        self.button_up.on_click(self._on_up_click)\n",
    "        self.button_down.on_click(self._on_down_click)\n",
    "\n",
    "    # --------------------------------------------------------------------------------\n",
    "    def _on_up_click(self, button):\n",
    "        \"\"\" On up click\n",
    "        \"\"\"\n",
    "\n",
    "        self.current_index -= self.n_cols\n",
    "        self._update_display()\n",
    "\n",
    "    # --------------------------------------------------------------------------------\n",
    "    def _on_down_click(self, button):\n",
    "        \"\"\" On down click\n",
    "        \"\"\"\n",
    "\n",
    "        self.current_index += self.n_cols\n",
    "        self._update_display()\n",
    "\n",
    "    # --------------------------------------------------------------------------------\n",
    "    def _update_display(self):\n",
    "        \"\"\" Update figure\n",
    "        \"\"\"\n",
    "\n",
    "        self.current_index = max(0, min(self.current_index, self.num_samples - self.total_images))\n",
    "        with self.output_widget:\n",
    "            clear_output(wait=True)\n",
    "            self._display_images()\n",
    "\n",
    "    # --------------------------------------------------------------------------------\n",
    "    def _display_images(self):\n",
    "        \"\"\" Show grid of images\n",
    "\n",
    "        Tip: Override this function for your specific behaviour\n",
    "\n",
    "        \"\"\"\n",
    "\n",
    "        fig, axs = plt.subplots(self.n_rows, self.n_cols, figsize=self.figsize)\n",
    "        if self.n_rows == 1:\n",
    "            axs = axs[np.newaxis, :]\n",
    "        elif self.n_cols == 1:\n",
    "            axs = axs[:, np.newaxis]\n",
    "\n",
    "        for i in range(self.n_rows):\n",
    "            for j in range(self.n_cols):\n",
    "                idx = self.current_index + i * self.n_cols + j\n",
    "                if idx < self.num_samples:\n",
    "                    axs[i, j].imshow(self._get_image(idx=idx))\n",
    "                    axs[i, j].axis('off')\n",
    "        plt.show()\n",
    "\n",
    "    # --------------------------------------------------------------------------------\n",
    "    def _get_image(self, idx):\n",
    "        \"\"\" Function that retrieves an image at specific idx\n",
    "\n",
    "        This is just an example of a function that assumes that dataset \n",
    "        object implements __getitem__(idx), again, this is a simple PyTorch example\n",
    "\n",
    "        Tip: Override this function for your specific behaviour. \n",
    "        This is called from _display_images and only requires to implement functionality\n",
    "        that will return some object with which the plt.imshow() is happy with\n",
    "\n",
    "        ---\n",
    "        Parameters\n",
    "            idx: Index of the sample\n",
    "\n",
    "        ---\n",
    "        Returns\n",
    "            Anything that plt.imshow() is happy with\n",
    "\n",
    "        \"\"\"\n",
    "        if self.dataset is None:\n",
    "            raise ValueError(\"Dataset is None, can't retrieve a sample\")\n",
    "\n",
    "        return self.dataset[idx]\n",
    "\n",
    "    # --------------------------------------------------------------------------------\n",
    "    def show(self):\n",
    "        \"\"\" Show the grid\n",
    "        \"\"\"\n",
    "\n",
    "        display(self.output_widget)\n",
    "        self._update_display()\n",
    "        display(self.button_box)"
   ]
  },
  {
   "cell_type": "code",
   "execution_count": 4,
   "metadata": {},
   "outputs": [],
   "source": [
    "class MonetDataset(Dataset):\n",
    "    def __init__(self, \n",
    "                 root_path):\n",
    "        \n",
    "        # Paths\n",
    "        self.root_path = root_path\n",
    "        self.monet_paths = os.listdir(f\"{root_path}/monet_jpg\")\n",
    "        \n",
    "    def __len__(self):\n",
    "        return len(self.monet_paths)\n",
    "    \n",
    "    def __getitem__(self, idx):\n",
    "        \"\"\" Get one of the photos and a random monet\n",
    "        \"\"\"\n",
    "        \n",
    "        # Get a random monet path\n",
    "        path_monet = f\"{root_path}/monet_jpg/{self.monet_paths[idx]}\"\n",
    "        \n",
    "        # Load Img\n",
    "        x_monet = self.read_img(path_monet)\n",
    "        \n",
    "        return x_monet\n",
    "        \n",
    "    def read_img(self, path):\n",
    "        \"\"\" Read img with cv2 and transform to RGB\n",
    "        \"\"\"\n",
    "        return cv2.cvtColor(cv2.imread(path), cv2.COLOR_BGR2RGB)  "
   ]
  },
  {
   "cell_type": "code",
   "execution_count": 5,
   "metadata": {},
   "outputs": [],
   "source": [
    "img_explorer = ImageExplorer(dataset=MonetDataset(root_path=root_path))\n"
   ]
  },
  {
   "cell_type": "code",
   "execution_count": 6,
   "metadata": {},
   "outputs": [
    {
     "data": {
      "application/vnd.jupyter.widget-view+json": {
       "model_id": "ffeed87d7cc54a9898f369b65fa4edf2",
       "version_major": 2,
       "version_minor": 0
      },
      "text/plain": [
       "Output()"
      ]
     },
     "metadata": {},
     "output_type": "display_data"
    },
    {
     "data": {
      "application/vnd.jupyter.widget-view+json": {
       "model_id": "9291a4bde2b54a04bb6ecd1cc122e873",
       "version_major": 2,
       "version_minor": 0
      },
      "text/plain": [
       "HBox(children=(Button(description='▲', style=ButtonStyle()), Button(description='▼', style=ButtonStyle())))"
      ]
     },
     "metadata": {},
     "output_type": "display_data"
    }
   ],
   "source": [
    "img_explorer.show()"
   ]
  },
  {
   "cell_type": "code",
   "execution_count": null,
   "metadata": {},
   "outputs": [],
   "source": []
  }
 ],
 "metadata": {
  "kernelspec": {
   "display_name": ".venv",
   "language": "python",
   "name": "python3"
  },
  "language_info": {
   "codemirror_mode": {
    "name": "ipython",
    "version": 3
   },
   "file_extension": ".py",
   "mimetype": "text/x-python",
   "name": "python",
   "nbconvert_exporter": "python",
   "pygments_lexer": "ipython3",
   "version": "3.12.3"
  }
 },
 "nbformat": 4,
 "nbformat_minor": 2
}
